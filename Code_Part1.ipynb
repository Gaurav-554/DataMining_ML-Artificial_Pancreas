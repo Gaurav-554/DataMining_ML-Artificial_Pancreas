{
 "cells": [
  {
   "cell_type": "code",
   "execution_count": 1,
   "metadata": {},
   "outputs": [],
   "source": [
    "import pandas as pd\n",
    "import numpy as np"
   ]
  },
  {
   "cell_type": "code",
   "execution_count": 2,
   "metadata": {},
   "outputs": [
    {
     "name": "stderr",
     "output_type": "stream",
     "text": [
      "C:\\Users\\gaura\\anaconda3\\lib\\site-packages\\IPython\\core\\interactiveshell.py:3146: DtypeWarning: Columns (13,43) have mixed types.Specify dtype option on import or set low_memory=False.\n",
      "  interactivity=interactivity, compiler=compiler, result=result)\n"
     ]
    }
   ],
   "source": [
    "# Read insulin data\n",
    "InsulinData = pd.read_csv(\"dataset/InsulinData_Patient1.csv\")\n",
    "\n",
    "# Generate combined Date-Time stamp\n",
    "InsulinData[\"combinedStamp\"] = pd.to_datetime(InsulinData[\"Date\"] + ' - ' + InsulinData[\"Time\"])\n",
    "\n",
    "# Get the TimeStamp where AUTO mode starts\n",
    "# [Pump always starts in MANUAL mode] \n",
    "autoPoint = InsulinData.sort_values(by = [\"combinedStamp\"]).loc[InsulinData[\"Alarm\"] == \"AUTO MODE ACTIVE PLGM OFF\"].iloc[0][\"combinedStamp\"]"
   ]
  },
  {
   "cell_type": "code",
   "execution_count": 3,
   "metadata": {},
   "outputs": [
    {
     "name": "stderr",
     "output_type": "stream",
     "text": [
      "C:\\Users\\gaura\\anaconda3\\lib\\site-packages\\IPython\\core\\interactiveshell.py:3146: DtypeWarning: Columns (32) have mixed types.Specify dtype option on import or set low_memory=False.\n",
      "  interactivity=interactivity, compiler=compiler, result=result)\n"
     ]
    }
   ],
   "source": [
    "# Read CGM data\n",
    "CGMData = pd.read_csv(\"CGMData_Patient1.csv\")\n",
    "\n",
    "# Generate combined Date-Time stamp\n",
    "CGMData[\"combinedStamp\"] = pd.to_datetime(CGMData[\"Date\"] + ' - ' + CGMData[\"Time\"])"
   ]
  },
  {
   "cell_type": "code",
   "execution_count": 4,
   "metadata": {},
   "outputs": [],
   "source": [
    "# Extract data in AUTO mode\n",
    "auto = CGMData.sort_values(by = [\"combinedStamp\"]).loc[CGMData[\"combinedStamp\"] > autoPoint]\n",
    "\n",
    "# Extract data in MANUAL mode\n",
    "manual = CGMData.sort_values(by = [\"combinedStamp\"]).loc[CGMData[\"combinedStamp\"] <= autoPoint]"
   ]
  },
  {
   "cell_type": "code",
   "execution_count": 5,
   "metadata": {},
   "outputs": [],
   "source": [
    "# Extract unique dates in both modes\n",
    "\n",
    "autoDates = pd.unique(auto[\"combinedStamp\"].dt.date)\n",
    "\n",
    "manualDates = pd.unique(manual[\"combinedStamp\"].dt.date)"
   ]
  },
  {
   "cell_type": "code",
   "execution_count": 6,
   "metadata": {},
   "outputs": [],
   "source": [
    "whole_count_1 = 0\n",
    "whole_count_2 = 0\n",
    "whole_count_3 = 0\n",
    "whole_count_4 = 0\n",
    "whole_count_5 = 0\n",
    "whole_count_6 = 0"
   ]
  },
  {
   "cell_type": "code",
   "execution_count": 7,
   "metadata": {},
   "outputs": [],
   "source": [
    "day_count_1 = 0\n",
    "day_count_2 = 0\n",
    "day_count_3 = 0\n",
    "day_count_4 = 0\n",
    "day_count_5 = 0\n",
    "day_count_6 = 0"
   ]
  },
  {
   "cell_type": "code",
   "execution_count": 8,
   "metadata": {},
   "outputs": [],
   "source": [
    "night_count_1 = 0\n",
    "night_count_2 = 0\n",
    "night_count_3 = 0\n",
    "night_count_4 = 0\n",
    "night_count_5 = 0\n",
    "night_count_6 = 0"
   ]
  },
  {
   "cell_type": "code",
   "execution_count": 9,
   "metadata": {},
   "outputs": [],
   "source": [
    "# Analyzing data in AUTO mode\n",
    "\n",
    "for item in autoDates:\n",
    "    \n",
    "    # Segregate data according to given 3 given time intervals \n",
    "    whole = auto.loc[auto[\"combinedStamp\"].dt.date == item]\n",
    "    day = whole.loc[(whole[\"combinedStamp\"].dt.time >= pd.to_datetime('06:00:00').time()) & (whole[\"combinedStamp\"].dt.time <= pd.to_datetime('23:59:59').time())]\n",
    "    night = whole.loc[(whole[\"combinedStamp\"].dt.time >= pd.to_datetime('00:00:00').time()) & (whole[\"combinedStamp\"].dt.time < pd.to_datetime('06:00:00').time())]\n",
    "    \n",
    "    # Calculate asked metrics\n",
    "    temp = whole[whole[\"Sensor Glucose (mg/dL)\"] > 180]\n",
    "    whole_count_1 = whole_count_1 + temp[\"Sensor Glucose (mg/dL)\"].count()\n",
    "    \n",
    "    temp = whole[whole[\"Sensor Glucose (mg/dL)\"] > 250]\n",
    "    whole_count_2 = whole_count_2 + temp[\"Sensor Glucose (mg/dL)\"].count()\n",
    "    \n",
    "    temp = whole[(whole[\"Sensor Glucose (mg/dL)\"] >= 70) & (whole[\"Sensor Glucose (mg/dL)\"] <= 180)]\n",
    "    whole_count_3 = whole_count_3 + temp[\"Sensor Glucose (mg/dL)\"].count()\n",
    "    \n",
    "    temp = whole[(whole[\"Sensor Glucose (mg/dL)\"] >= 70) & (whole[\"Sensor Glucose (mg/dL)\"] <= 150)]\n",
    "    whole_count_4 = whole_count_4 + temp[\"Sensor Glucose (mg/dL)\"].count()\n",
    "    \n",
    "    temp = whole[whole[\"Sensor Glucose (mg/dL)\"] < 70]\n",
    "    whole_count_5 = whole_count_5 + temp[\"Sensor Glucose (mg/dL)\"].count()\n",
    "    \n",
    "    temp = whole[whole[\"Sensor Glucose (mg/dL)\"] < 54]\n",
    "    whole_count_6 = whole_count_6 + temp[\"Sensor Glucose (mg/dL)\"].count()\n",
    "    \n",
    "    \n",
    "    temp = day[day[\"Sensor Glucose (mg/dL)\"] > 180]\n",
    "    day_count_1 = day_count_1 + temp[\"Sensor Glucose (mg/dL)\"].count()\n",
    "    \n",
    "    temp = day[day[\"Sensor Glucose (mg/dL)\"] > 250]\n",
    "    day_count_2 = day_count_2 + temp[\"Sensor Glucose (mg/dL)\"].count()\n",
    "    \n",
    "    temp = day[(day[\"Sensor Glucose (mg/dL)\"] >= 70) & (day[\"Sensor Glucose (mg/dL)\"] <= 180)]\n",
    "    day_count_3 = day_count_3 + temp[\"Sensor Glucose (mg/dL)\"].count()\n",
    "    \n",
    "    temp = day[(day[\"Sensor Glucose (mg/dL)\"] >= 70) & (day[\"Sensor Glucose (mg/dL)\"] <= 150)]\n",
    "    day_count_4 = day_count_4 + temp[\"Sensor Glucose (mg/dL)\"].count()\n",
    "    \n",
    "    temp = day[day[\"Sensor Glucose (mg/dL)\"] < 70]\n",
    "    day_count_5 = day_count_5 + temp[\"Sensor Glucose (mg/dL)\"].count()\n",
    "    \n",
    "    temp = day[day[\"Sensor Glucose (mg/dL)\"] < 54]\n",
    "    day_count_6 = day_count_6 + temp[\"Sensor Glucose (mg/dL)\"].count()\n",
    "    \n",
    "    \n",
    "    temp = night[night[\"Sensor Glucose (mg/dL)\"] > 180]\n",
    "    night_count_1 = night_count_1 + temp[\"Sensor Glucose (mg/dL)\"].count()\n",
    "    \n",
    "    temp = night[night[\"Sensor Glucose (mg/dL)\"] > 250]\n",
    "    night_count_2 = night_count_2 + temp[\"Sensor Glucose (mg/dL)\"].count()\n",
    "    \n",
    "    temp = night[(night[\"Sensor Glucose (mg/dL)\"] >= 70) & (night[\"Sensor Glucose (mg/dL)\"] <= 180)]\n",
    "    night_count_3 = night_count_3 + temp[\"Sensor Glucose (mg/dL)\"].count()\n",
    "    \n",
    "    temp = night[(night[\"Sensor Glucose (mg/dL)\"] >= 70) & (night[\"Sensor Glucose (mg/dL)\"] <= 150)]\n",
    "    night_count_4 = night_count_4 + temp[\"Sensor Glucose (mg/dL)\"].count()\n",
    "    \n",
    "    temp = night[night[\"Sensor Glucose (mg/dL)\"] < 70]\n",
    "    night_count_5 = night_count_5 + temp[\"Sensor Glucose (mg/dL)\"].count()\n",
    "    \n",
    "    temp = night[night[\"Sensor Glucose (mg/dL)\"] < 54]\n",
    "    night_count_6 = night_count_6 + temp[\"Sensor Glucose (mg/dL)\"].count()"
   ]
  },
  {
   "cell_type": "code",
   "execution_count": 10,
   "metadata": {},
   "outputs": [],
   "source": [
    "# Convert calculated figures to metrics percentages\n",
    "\n",
    "percentage_factor_whole = len(autoDates) * 288\n",
    "percentage_factor_day = percentage_factor_whole * 0.75\n",
    "percentage_factor_night = percentage_factor_whole * 0.25\n",
    "\n",
    "auto_percentage_whole_1 = (whole_count_1/percentage_factor_whole) * 100\n",
    "auto_percentage_whole_2 = (whole_count_2/percentage_factor_whole) * 100\n",
    "auto_percentage_whole_3 = (whole_count_3/percentage_factor_whole) * 100\n",
    "auto_percentage_whole_4 = (whole_count_4/percentage_factor_whole) * 100\n",
    "auto_percentage_whole_5 = (whole_count_5/percentage_factor_whole) * 100\n",
    "auto_percentage_whole_6 = (whole_count_6/percentage_factor_whole) * 100\n",
    "\n",
    "auto_percentage_day_1 = (day_count_1/percentage_factor_day) * 100\n",
    "auto_percentage_day_2 = (day_count_2/percentage_factor_day) * 100\n",
    "auto_percentage_day_3 = (day_count_3/percentage_factor_day) * 100\n",
    "auto_percentage_day_4 = (day_count_4/percentage_factor_day) * 100\n",
    "auto_percentage_day_5 = (day_count_5/percentage_factor_day) * 100\n",
    "auto_percentage_day_6 = (day_count_6/percentage_factor_day) * 100\n",
    "\n",
    "auto_percentage_night_1 = (night_count_1/percentage_factor_night) * 100\n",
    "auto_percentage_night_2 = (night_count_2/percentage_factor_night) * 100\n",
    "auto_percentage_night_3 = (night_count_3/percentage_factor_night) * 100\n",
    "auto_percentage_night_4 = (night_count_4/percentage_factor_night) * 100\n",
    "auto_percentage_night_5 = (night_count_5/percentage_factor_night) * 100\n",
    "auto_percentage_night_6 = (night_count_6/percentage_factor_night) * 100"
   ]
  },
  {
   "cell_type": "code",
   "execution_count": 11,
   "metadata": {},
   "outputs": [],
   "source": [
    "whole_count_1 = 0\n",
    "whole_count_2 = 0\n",
    "whole_count_3 = 0\n",
    "whole_count_4 = 0\n",
    "whole_count_5 = 0\n",
    "whole_count_6 = 0"
   ]
  },
  {
   "cell_type": "code",
   "execution_count": 12,
   "metadata": {},
   "outputs": [],
   "source": [
    "day_count_1 = 0\n",
    "day_count_2 = 0\n",
    "day_count_3 = 0\n",
    "day_count_4 = 0\n",
    "day_count_5 = 0\n",
    "day_count_6 = 0"
   ]
  },
  {
   "cell_type": "code",
   "execution_count": 13,
   "metadata": {},
   "outputs": [],
   "source": [
    "night_count_1 = 0\n",
    "night_count_2 = 0\n",
    "night_count_3 = 0\n",
    "night_count_4 = 0\n",
    "night_count_5 = 0\n",
    "night_count_6 = 0"
   ]
  },
  {
   "cell_type": "code",
   "execution_count": 14,
   "metadata": {},
   "outputs": [],
   "source": [
    "# Analyzing data in AUTO mode\n",
    "\n",
    "for item in manualDates:\n",
    "    \n",
    "    # Segregate data according to given 3 given time intervals\n",
    "    whole = manual.loc[manual[\"combinedStamp\"].dt.date == item]\n",
    "    day = whole.loc[(whole[\"combinedStamp\"].dt.time >= pd.to_datetime('06:00:00').time()) & (whole[\"combinedStamp\"].dt.time <= pd.to_datetime('23:59:59').time())]\n",
    "    night = whole.loc[(whole[\"combinedStamp\"].dt.time >= pd.to_datetime('00:00:00').time()) & (whole[\"combinedStamp\"].dt.time < pd.to_datetime('06:00:00').time())]\n",
    "    \n",
    "    # Calculate asked metrics\n",
    "    temp = whole[whole[\"Sensor Glucose (mg/dL)\"] > 180]\n",
    "    whole_count_1 = whole_count_1 + temp[\"Sensor Glucose (mg/dL)\"].count()\n",
    "    \n",
    "    temp = whole[whole[\"Sensor Glucose (mg/dL)\"] > 250]\n",
    "    whole_count_2 = whole_count_2 + temp[\"Sensor Glucose (mg/dL)\"].count()\n",
    "    \n",
    "    temp = whole[(whole[\"Sensor Glucose (mg/dL)\"] >= 70) & (whole[\"Sensor Glucose (mg/dL)\"] <= 180)]\n",
    "    whole_count_3 = whole_count_3 + temp[\"Sensor Glucose (mg/dL)\"].count()\n",
    "    \n",
    "    temp = whole[(whole[\"Sensor Glucose (mg/dL)\"] >= 70) & (whole[\"Sensor Glucose (mg/dL)\"] <= 150)]\n",
    "    whole_count_4 = whole_count_4 + temp[\"Sensor Glucose (mg/dL)\"].count()\n",
    "    \n",
    "    temp = whole[whole[\"Sensor Glucose (mg/dL)\"] < 70]\n",
    "    whole_count_5 = whole_count_5 + temp[\"Sensor Glucose (mg/dL)\"].count()\n",
    "    \n",
    "    temp = whole[whole[\"Sensor Glucose (mg/dL)\"] < 54]\n",
    "    whole_count_6 = whole_count_6 + temp[\"Sensor Glucose (mg/dL)\"].count()\n",
    "    \n",
    "    \n",
    "    temp = day[day[\"Sensor Glucose (mg/dL)\"] > 180]\n",
    "    day_count_1 = day_count_1 + temp[\"Sensor Glucose (mg/dL)\"].count()\n",
    "    \n",
    "    temp = day[day[\"Sensor Glucose (mg/dL)\"] > 250]\n",
    "    day_count_2 = day_count_2 + temp[\"Sensor Glucose (mg/dL)\"].count()\n",
    "    \n",
    "    temp = day[(day[\"Sensor Glucose (mg/dL)\"] >= 70) & (day[\"Sensor Glucose (mg/dL)\"] <= 180)]\n",
    "    day_count_3 = day_count_3 + temp[\"Sensor Glucose (mg/dL)\"].count()\n",
    "    \n",
    "    temp = day[(day[\"Sensor Glucose (mg/dL)\"] >= 70) & (day[\"Sensor Glucose (mg/dL)\"] <= 150)]\n",
    "    day_count_4 = day_count_4 + temp[\"Sensor Glucose (mg/dL)\"].count()\n",
    "    \n",
    "    temp = day[day[\"Sensor Glucose (mg/dL)\"] < 70]\n",
    "    day_count_5 = day_count_5 + temp[\"Sensor Glucose (mg/dL)\"].count()\n",
    "    \n",
    "    temp = day[day[\"Sensor Glucose (mg/dL)\"] < 54]\n",
    "    day_count_6 = day_count_6 + temp[\"Sensor Glucose (mg/dL)\"].count()\n",
    "    \n",
    "    \n",
    "    temp = night[night[\"Sensor Glucose (mg/dL)\"] > 180]\n",
    "    night_count_1 = night_count_1 + temp[\"Sensor Glucose (mg/dL)\"].count()\n",
    "    \n",
    "    temp = night[night[\"Sensor Glucose (mg/dL)\"] > 250]\n",
    "    night_count_2 = night_count_2 + temp[\"Sensor Glucose (mg/dL)\"].count()\n",
    "    \n",
    "    temp = night[(night[\"Sensor Glucose (mg/dL)\"] >= 70) & (night[\"Sensor Glucose (mg/dL)\"] <= 180)]\n",
    "    night_count_3 = night_count_3 + temp[\"Sensor Glucose (mg/dL)\"].count()\n",
    "    \n",
    "    temp = night[(night[\"Sensor Glucose (mg/dL)\"] >= 70) & (night[\"Sensor Glucose (mg/dL)\"] <= 150)]\n",
    "    night_count_4 = night_count_4 + temp[\"Sensor Glucose (mg/dL)\"].count()\n",
    "    \n",
    "    temp = night[night[\"Sensor Glucose (mg/dL)\"] < 70]\n",
    "    night_count_5 = night_count_5 + temp[\"Sensor Glucose (mg/dL)\"].count()\n",
    "    \n",
    "    temp = night[night[\"Sensor Glucose (mg/dL)\"] < 54]\n",
    "    night_count_6 = night_count_6 + temp[\"Sensor Glucose (mg/dL)\"].count()"
   ]
  },
  {
   "cell_type": "code",
   "execution_count": 15,
   "metadata": {},
   "outputs": [],
   "source": [
    "# Convert calculated figures to metrics percentages\n",
    "\n",
    "percentage_factor_whole = len(manualDates) * 288\n",
    "percentage_factor_day = percentage_factor_whole / 0.75\n",
    "percentage_factor_night = percentage_factor_whole / 0.25\n",
    "\n",
    "manual_percentage_whole_1 = (whole_count_1/percentage_factor_whole) * 100\n",
    "manual_percentage_whole_2 = (whole_count_2/percentage_factor_whole) * 100\n",
    "manual_percentage_whole_3 = (whole_count_3/percentage_factor_whole) * 100\n",
    "manual_percentage_whole_4 = (whole_count_4/percentage_factor_whole) * 100\n",
    "manual_percentage_whole_5 = (whole_count_5/percentage_factor_whole) * 100\n",
    "manual_percentage_whole_6 = (whole_count_6/percentage_factor_whole) * 100\n",
    "\n",
    "manual_percentage_day_1 = (day_count_1/percentage_factor_day) * 100\n",
    "manual_percentage_day_2 = (day_count_2/percentage_factor_day) * 100\n",
    "manual_percentage_day_3 = (day_count_3/percentage_factor_day) * 100\n",
    "manual_percentage_day_4 = (day_count_4/percentage_factor_day) * 100\n",
    "manual_percentage_day_5 = (day_count_5/percentage_factor_day) * 100\n",
    "manual_percentage_day_6 = (day_count_6/percentage_factor_day) * 100\n",
    "\n",
    "manual_percentage_night_1 = (night_count_1/percentage_factor_night) * 100\n",
    "manual_percentage_night_2 = (night_count_2/percentage_factor_night) * 100\n",
    "manual_percentage_night_3 = (night_count_3/percentage_factor_night) * 100\n",
    "manual_percentage_night_4 = (night_count_4/percentage_factor_night) * 100\n",
    "manual_percentage_night_5 = (night_count_5/percentage_factor_night) * 100\n",
    "manual_percentage_night_6 = (night_count_6/percentage_factor_night) * 100"
   ]
  },
  {
   "cell_type": "code",
   "execution_count": 16,
   "metadata": {},
   "outputs": [],
   "source": [
    "Results = [\n",
    "    [\n",
    "        manual_percentage_night_1,\n",
    "        manual_percentage_night_2,\n",
    "        manual_percentage_night_3,\n",
    "        manual_percentage_night_4,\n",
    "        manual_percentage_night_5,\n",
    "        manual_percentage_night_6,\n",
    "        \n",
    "        manual_percentage_day_1,\n",
    "        manual_percentage_day_2,\n",
    "        manual_percentage_day_3,\n",
    "        manual_percentage_day_4,\n",
    "        manual_percentage_day_5,\n",
    "        manual_percentage_day_6,\n",
    "        \n",
    "        manual_percentage_whole_1,\n",
    "        manual_percentage_whole_2,\n",
    "        manual_percentage_whole_3,\n",
    "        manual_percentage_whole_4,\n",
    "        manual_percentage_whole_5,\n",
    "        manual_percentage_whole_6,\n",
    "    ],\n",
    "    \n",
    "    [\n",
    "        auto_percentage_night_1,\n",
    "        auto_percentage_night_2,\n",
    "        auto_percentage_night_3,\n",
    "        auto_percentage_night_4,\n",
    "        auto_percentage_night_5,\n",
    "        auto_percentage_night_6,\n",
    "        \n",
    "        auto_percentage_day_1,\n",
    "        auto_percentage_day_2,\n",
    "        auto_percentage_day_3,\n",
    "        auto_percentage_day_4,\n",
    "        auto_percentage_day_5,\n",
    "        auto_percentage_day_6,\n",
    "        \n",
    "        auto_percentage_whole_1,\n",
    "        auto_percentage_whole_2,\n",
    "        auto_percentage_whole_3,\n",
    "        auto_percentage_whole_4,\n",
    "        auto_percentage_whole_5,\n",
    "        auto_percentage_whole_6,\n",
    "    ]\n",
    "]"
   ]
  },
  {
   "cell_type": "code",
   "execution_count": null,
   "metadata": {},
   "outputs": [],
   "source": [
    "# Write final results to CSV\n",
    "\n",
    "pd.DataFrame(Results).to_csv('Results_Part1.csv', header = False, index = False)"
   ]
  },
  {
   "cell_type": "markdown",
   "metadata": {},
   "source": [
    "## Results"
   ]
  },
  {
   "attachments": {
    "Results_Part1.png": {
     "image/png": "[encoded data removed]"
    }
   },
   "cell_type": "markdown",
   "metadata": {},
   "source": [
    "![Results_Part1.png](attachment:Results_Part1.png)"
   ]
  }
 ],
 "metadata": {
  "kernelspec": {
   "display_name": "Python 3",
   "language": "python",
   "name": "python3"
  },
  "language_info": {
   "codemirror_mode": {
    "name": "ipython",
    "version": 3
   },
   "file_extension": ".py",
   "mimetype": "text/x-python",
   "name": "python",
   "nbconvert_exporter": "python",
   "pygments_lexer": "ipython3",
   "version": "3.7.6"
  }
 },
 "nbformat": 4,
 "nbformat_minor": 4
}
